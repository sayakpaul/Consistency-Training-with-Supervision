{
 "cells": [
  {
   "cell_type": "markdown",
   "id": "meaning-testing",
   "metadata": {},
   "source": [
    "## Setup"
   ]
  },
  {
   "cell_type": "code",
   "execution_count": 1,
   "id": "medium-writing",
   "metadata": {},
   "outputs": [
    {
     "name": "stdout",
     "output_type": "stream",
     "text": [
      "Downloading...\n",
      "From: https://drive.google.com/uc?id=1-0mtggsTMLDmbT7cmxdIBH25eAieTyGb\n",
      "To: /home/jupyter/teacher_model_swa.h5\n",
      "94.6MB [00:01, 84.6MB/s]\n",
      "Downloading...\n",
      "From: https://drive.google.com/uc?id=1--EvBdSAnNaBtKozkMuja--lq8erN0uC\n",
      "To: /home/jupyter/student_noisy_swa.h5\n",
      "94.6MB [00:01, 76.2MB/s]\n",
      "Downloading...\n",
      "From: https://drive.google.com/uc?id=1M0JwphtV6W1NM6V2Qv_VMTdjWdeAz6Sx\n",
      "To: /home/jupyter/teacher_model_ma.h5\n",
      "94.6MB [00:00, 107MB/s] \n",
      "Downloading...\n",
      "From: https://drive.google.com/uc?id=1pW2hx6fkQGH8fXFfh8Fn8xPADuYBy5mG\n",
      "To: /home/jupyter/student_noisy_ma.h5\n",
      "94.6MB [00:01, 76.7MB/s]\n"
     ]
    }
   ],
   "source": [
    "# SWA weights\n",
    "!/home/jupyter/.local/bin/gdown --id 1-0mtggsTMLDmbT7cmxdIBH25eAieTyGb\n",
    "!/home/jupyter/.local/bin/gdown --id 1--EvBdSAnNaBtKozkMuja--lq8erN0uC\n",
    "\n",
    "# MA weights\n",
    "!/home/jupyter/.local/bin/gdown --id 1M0JwphtV6W1NM6V2Qv_VMTdjWdeAz6Sx\n",
    "!/home/jupyter/.local/bin/gdown --id 1pW2hx6fkQGH8fXFfh8Fn8xPADuYBy5mG"
   ]
  },
  {
   "cell_type": "code",
   "execution_count": 13,
   "id": "banner-complexity",
   "metadata": {},
   "outputs": [],
   "source": [
    "from tensorflow.keras import layers\n",
    "import tensorflow as tf\n",
    "\n",
    "import tensorflow_datasets as tfds\n",
    "tfds.disable_progress_bar()\n",
    "\n",
    "from tqdm import tqdm\n",
    "import numpy as np"
   ]
  },
  {
   "cell_type": "markdown",
   "id": "fuzzy-sullivan",
   "metadata": {},
   "source": [
    "## Define Hyperparameters"
   ]
  },
  {
   "cell_type": "code",
   "execution_count": 15,
   "id": "moved-fountain",
   "metadata": {},
   "outputs": [],
   "source": [
    "AUTO = tf.data.AUTOTUNE\n",
    "DATASET_NAME = \"cifar10_corrupted\"\n",
    "BATCH_SIZE = 64\n",
    "IMAGE_SIZE = 72"
   ]
  },
  {
   "cell_type": "code",
   "execution_count": 6,
   "id": "sticky-antibody",
   "metadata": {},
   "outputs": [
    {
     "name": "stdout",
     "output_type": "stream",
     "text": [
      "Total sub-versions of the CIFAR10-C dataset: 19\n"
     ]
    }
   ],
   "source": [
    "VERSIONS = [\n",
    "    \"brightness_5\",\n",
    "    \"contrast_5\",\n",
    "    \"defocus_blur_5\",\n",
    "    \"elastic_5\",\n",
    "    \"fog_5\",\n",
    "    \"frost_5\",\n",
    "    \"frosted_glass_blur_5\",\n",
    "    \"gaussian_blur_5\",\n",
    "    \"gaussian_noise_5\",\n",
    "    \"impulse_noise_5\",\n",
    "    \"jpeg_compression_5\",\n",
    "    \"motion_blur_5\",\n",
    "    \"pixelate_5\",\n",
    "    \"saturate_5\",\n",
    "    \"shot_noise_5\",\n",
    "    \"snow_5\",\n",
    "    \"spatter_5\",\n",
    "    \"speckle_noise_5\",\n",
    "    \"zoom_blur_5\"\n",
    "]\n",
    "\n",
    "print(f\"Total sub-versions of the CIFAR10-C dataset: {len(VERSIONS)}\")"
   ]
  },
  {
   "cell_type": "markdown",
   "id": "incredible-lebanon",
   "metadata": {},
   "source": [
    "## Utilities"
   ]
  },
  {
   "cell_type": "code",
   "execution_count": 5,
   "id": "compliant-malpractice",
   "metadata": {},
   "outputs": [],
   "source": [
    "def prepare_dataset(ds):\n",
    "    ds = (ds\n",
    "          .batch(BATCH_SIZE)\n",
    "          .map(lambda x, y: (tf.image.resize(x, (IMAGE_SIZE, IMAGE_SIZE)), y), \n",
    "               num_parallel_calls=AUTO)\n",
    "          .prefetch(AUTO)\n",
    "    )\n",
    "    return ds"
   ]
  },
  {
   "cell_type": "code",
   "execution_count": 11,
   "id": "composed-canal",
   "metadata": {},
   "outputs": [],
   "source": [
    "def get_training_model(num_classes=10):\n",
    "    resnet50_v2 = tf.keras.applications.ResNet50V2(\n",
    "        weights=None,\n",
    "        include_top=False,\n",
    "        input_shape=(IMAGE_SIZE, IMAGE_SIZE, 3),\n",
    "    )\n",
    "    model = tf.keras.Sequential(\n",
    "        [\n",
    "            layers.Input((IMAGE_SIZE, IMAGE_SIZE, 3)),\n",
    "            layers.experimental.preprocessing.Rescaling(scale=1.0 / 127.5, offset=-1),\n",
    "            resnet50_v2,\n",
    "            layers.GlobalAveragePooling2D(),\n",
    "            layers.Dense(num_classes)\n",
    "        ]\n",
    "    )\n",
    "    return model"
   ]
  },
  {
   "cell_type": "code",
   "execution_count": 9,
   "id": "boxed-settlement",
   "metadata": {},
   "outputs": [],
   "source": [
    "def evaluate_model(model):\n",
    "    acc_dict = {}\n",
    "    for version in tqdm(VERSIONS):\n",
    "        print(f\"Processing {version}\")\n",
    "        dataset_fullname = DATASET_NAME + \"/\" + version\n",
    "        loaded_ds = tfds.load(\n",
    "            dataset_fullname,\n",
    "            split=\"test\",\n",
    "            as_supervised=True\n",
    "        )\n",
    "        loaded_ds = prepare_dataset(loaded_ds)\n",
    "        _, acc = model.evaluate(loaded_ds, verbose=0)\n",
    "        print(f\"Test accuracy on {version}: {acc*100}%\")\n",
    "        acc_dict[version] = acc*100\n",
    "        \n",
    "    return acc_dict, np.mean(list(acc_dict.values()))"
   ]
  },
  {
   "cell_type": "markdown",
   "id": "english-eleven",
   "metadata": {},
   "source": [
    "## Evaluation"
   ]
  },
  {
   "cell_type": "code",
   "execution_count": 16,
   "id": "latest-placement",
   "metadata": {},
   "outputs": [
    {
     "name": "stderr",
     "output_type": "stream",
     "text": [
      "  0%|          | 0/19 [00:00<?, ?it/s]"
     ]
    },
    {
     "name": "stdout",
     "output_type": "stream",
     "text": [
      "Processing brightness_5\n"
     ]
    },
    {
     "name": "stderr",
     "output_type": "stream",
     "text": [
      "  5%|▌         | 1/19 [00:17<05:20, 17.80s/it]"
     ]
    },
    {
     "name": "stdout",
     "output_type": "stream",
     "text": [
      "Test accuracy on brightness_5: 75.60999989509583%\n",
      "Processing contrast_5\n",
      "\u001b[1mDownloading and preparing dataset 2.72 GiB (download: 2.72 GiB, generated: Unknown size, total: 2.72 GiB) to /home/jupyter/tensorflow_datasets/cifar10_corrupted/contrast_5/1.0.0...\u001b[0m\n",
      "\u001b[1mDataset cifar10_corrupted downloaded and prepared to /home/jupyter/tensorflow_datasets/cifar10_corrupted/contrast_5/1.0.0. Subsequent calls will reuse this data.\u001b[0m\n"
     ]
    },
    {
     "name": "stderr",
     "output_type": "stream",
     "text": [
      " 11%|█         | 2/19 [00:28<03:53, 13.74s/it]"
     ]
    },
    {
     "name": "stdout",
     "output_type": "stream",
     "text": [
      "Test accuracy on contrast_5: 20.739999413490295%\n",
      "Processing defocus_blur_5\n",
      "\u001b[1mDownloading and preparing dataset 2.72 GiB (download: 2.72 GiB, generated: Unknown size, total: 2.72 GiB) to /home/jupyter/tensorflow_datasets/cifar10_corrupted/defocus_blur_5/1.0.0...\u001b[0m\n",
      "\u001b[1mDataset cifar10_corrupted downloaded and prepared to /home/jupyter/tensorflow_datasets/cifar10_corrupted/defocus_blur_5/1.0.0. Subsequent calls will reuse this data.\u001b[0m\n"
     ]
    },
    {
     "name": "stderr",
     "output_type": "stream",
     "text": [
      " 16%|█▌        | 3/19 [00:38<03:12, 12.01s/it]"
     ]
    },
    {
     "name": "stdout",
     "output_type": "stream",
     "text": [
      "Test accuracy on defocus_blur_5: 72.04999923706055%\n",
      "Processing elastic_5\n",
      "\u001b[1mDownloading and preparing dataset 2.72 GiB (download: 2.72 GiB, generated: Unknown size, total: 2.72 GiB) to /home/jupyter/tensorflow_datasets/cifar10_corrupted/elastic_5/1.0.0...\u001b[0m\n",
      "\u001b[1mDataset cifar10_corrupted downloaded and prepared to /home/jupyter/tensorflow_datasets/cifar10_corrupted/elastic_5/1.0.0. Subsequent calls will reuse this data.\u001b[0m\n"
     ]
    },
    {
     "name": "stderr",
     "output_type": "stream",
     "text": [
      " 21%|██        | 4/19 [00:48<02:47, 11.17s/it]"
     ]
    },
    {
     "name": "stdout",
     "output_type": "stream",
     "text": [
      "Test accuracy on elastic_5: 74.59999918937683%\n",
      "Processing fog_5\n",
      "\u001b[1mDownloading and preparing dataset 2.72 GiB (download: 2.72 GiB, generated: Unknown size, total: 2.72 GiB) to /home/jupyter/tensorflow_datasets/cifar10_corrupted/fog_5/1.0.0...\u001b[0m\n",
      "\u001b[1mDataset cifar10_corrupted downloaded and prepared to /home/jupyter/tensorflow_datasets/cifar10_corrupted/fog_5/1.0.0. Subsequent calls will reuse this data.\u001b[0m\n"
     ]
    },
    {
     "name": "stderr",
     "output_type": "stream",
     "text": [
      " 26%|██▋       | 5/19 [00:58<02:29, 10.70s/it]"
     ]
    },
    {
     "name": "stdout",
     "output_type": "stream",
     "text": [
      "Test accuracy on fog_5: 49.43000078201294%\n",
      "Processing frost_5\n",
      "\u001b[1mDownloading and preparing dataset 2.72 GiB (download: 2.72 GiB, generated: Unknown size, total: 2.72 GiB) to /home/jupyter/tensorflow_datasets/cifar10_corrupted/frost_5/1.0.0...\u001b[0m\n",
      "\u001b[1mDataset cifar10_corrupted downloaded and prepared to /home/jupyter/tensorflow_datasets/cifar10_corrupted/frost_5/1.0.0. Subsequent calls will reuse this data.\u001b[0m\n"
     ]
    },
    {
     "name": "stderr",
     "output_type": "stream",
     "text": [
      " 32%|███▏      | 6/19 [01:07<02:13, 10.31s/it]"
     ]
    },
    {
     "name": "stdout",
     "output_type": "stream",
     "text": [
      "Test accuracy on frost_5: 59.210002422332764%\n",
      "Processing frosted_glass_blur_5\n",
      "\u001b[1mDownloading and preparing dataset 2.72 GiB (download: 2.72 GiB, generated: Unknown size, total: 2.72 GiB) to /home/jupyter/tensorflow_datasets/cifar10_corrupted/frosted_glass_blur_5/1.0.0...\u001b[0m\n",
      "\u001b[1mDataset cifar10_corrupted downloaded and prepared to /home/jupyter/tensorflow_datasets/cifar10_corrupted/frosted_glass_blur_5/1.0.0. Subsequent calls will reuse this data.\u001b[0m\n"
     ]
    },
    {
     "name": "stderr",
     "output_type": "stream",
     "text": [
      " 37%|███▋      | 7/19 [01:17<02:02, 10.19s/it]"
     ]
    },
    {
     "name": "stdout",
     "output_type": "stream",
     "text": [
      "Test accuracy on frosted_glass_blur_5: 58.969998359680176%\n",
      "Processing gaussian_blur_5\n",
      "\u001b[1mDownloading and preparing dataset 2.72 GiB (download: 2.72 GiB, generated: Unknown size, total: 2.72 GiB) to /home/jupyter/tensorflow_datasets/cifar10_corrupted/gaussian_blur_5/1.0.0...\u001b[0m\n",
      "\u001b[1mDataset cifar10_corrupted downloaded and prepared to /home/jupyter/tensorflow_datasets/cifar10_corrupted/gaussian_blur_5/1.0.0. Subsequent calls will reuse this data.\u001b[0m\n"
     ]
    },
    {
     "name": "stderr",
     "output_type": "stream",
     "text": [
      " 42%|████▏     | 8/19 [01:27<01:51, 10.10s/it]"
     ]
    },
    {
     "name": "stdout",
     "output_type": "stream",
     "text": [
      "Test accuracy on gaussian_blur_5: 66.78000092506409%\n",
      "Processing gaussian_noise_5\n",
      "\u001b[1mDownloading and preparing dataset 2.72 GiB (download: 2.72 GiB, generated: Unknown size, total: 2.72 GiB) to /home/jupyter/tensorflow_datasets/cifar10_corrupted/gaussian_noise_5/1.0.0...\u001b[0m\n",
      "\u001b[1mDataset cifar10_corrupted downloaded and prepared to /home/jupyter/tensorflow_datasets/cifar10_corrupted/gaussian_noise_5/1.0.0. Subsequent calls will reuse this data.\u001b[0m\n"
     ]
    },
    {
     "name": "stderr",
     "output_type": "stream",
     "text": [
      " 47%|████▋     | 9/19 [01:37<01:40, 10.08s/it]"
     ]
    },
    {
     "name": "stdout",
     "output_type": "stream",
     "text": [
      "Test accuracy on gaussian_noise_5: 40.02000093460083%\n",
      "Processing impulse_noise_5\n",
      "\u001b[1mDownloading and preparing dataset 2.72 GiB (download: 2.72 GiB, generated: Unknown size, total: 2.72 GiB) to /home/jupyter/tensorflow_datasets/cifar10_corrupted/impulse_noise_5/1.0.0...\u001b[0m\n",
      "\u001b[1mDataset cifar10_corrupted downloaded and prepared to /home/jupyter/tensorflow_datasets/cifar10_corrupted/impulse_noise_5/1.0.0. Subsequent calls will reuse this data.\u001b[0m\n"
     ]
    },
    {
     "name": "stderr",
     "output_type": "stream",
     "text": [
      " 53%|█████▎    | 10/19 [01:47<01:30, 10.05s/it]"
     ]
    },
    {
     "name": "stdout",
     "output_type": "stream",
     "text": [
      "Test accuracy on impulse_noise_5: 21.81999981403351%\n",
      "Processing jpeg_compression_5\n",
      "\u001b[1mDownloading and preparing dataset 2.72 GiB (download: 2.72 GiB, generated: Unknown size, total: 2.72 GiB) to /home/jupyter/tensorflow_datasets/cifar10_corrupted/jpeg_compression_5/1.0.0...\u001b[0m\n",
      "\u001b[1mDataset cifar10_corrupted downloaded and prepared to /home/jupyter/tensorflow_datasets/cifar10_corrupted/jpeg_compression_5/1.0.0. Subsequent calls will reuse this data.\u001b[0m\n"
     ]
    },
    {
     "name": "stderr",
     "output_type": "stream",
     "text": [
      " 58%|█████▊    | 11/19 [01:57<01:20, 10.04s/it]"
     ]
    },
    {
     "name": "stdout",
     "output_type": "stream",
     "text": [
      "Test accuracy on jpeg_compression_5: 79.03000116348267%\n",
      "Processing motion_blur_5\n",
      "\u001b[1mDownloading and preparing dataset 2.72 GiB (download: 2.72 GiB, generated: Unknown size, total: 2.72 GiB) to /home/jupyter/tensorflow_datasets/cifar10_corrupted/motion_blur_5/1.0.0...\u001b[0m\n",
      "\u001b[1mDataset cifar10_corrupted downloaded and prepared to /home/jupyter/tensorflow_datasets/cifar10_corrupted/motion_blur_5/1.0.0. Subsequent calls will reuse this data.\u001b[0m\n"
     ]
    },
    {
     "name": "stderr",
     "output_type": "stream",
     "text": [
      " 63%|██████▎   | 12/19 [02:07<01:10, 10.02s/it]"
     ]
    },
    {
     "name": "stdout",
     "output_type": "stream",
     "text": [
      "Test accuracy on motion_blur_5: 66.29999876022339%\n",
      "Processing pixelate_5\n",
      "\u001b[1mDownloading and preparing dataset 2.72 GiB (download: 2.72 GiB, generated: Unknown size, total: 2.72 GiB) to /home/jupyter/tensorflow_datasets/cifar10_corrupted/pixelate_5/1.0.0...\u001b[0m\n",
      "\u001b[1mDataset cifar10_corrupted downloaded and prepared to /home/jupyter/tensorflow_datasets/cifar10_corrupted/pixelate_5/1.0.0. Subsequent calls will reuse this data.\u001b[0m\n"
     ]
    },
    {
     "name": "stderr",
     "output_type": "stream",
     "text": [
      " 68%|██████▊   | 13/19 [02:17<01:00, 10.04s/it]"
     ]
    },
    {
     "name": "stdout",
     "output_type": "stream",
     "text": [
      "Test accuracy on pixelate_5: 74.88999962806702%\n",
      "Processing saturate_5\n"
     ]
    },
    {
     "name": "stderr",
     "output_type": "stream",
     "text": [
      " 74%|███████▎  | 14/19 [02:20<00:38,  7.68s/it]"
     ]
    },
    {
     "name": "stdout",
     "output_type": "stream",
     "text": [
      "Test accuracy on saturate_5: 67.79000163078308%\n",
      "Processing shot_noise_5\n",
      "\u001b[1mDownloading and preparing dataset 2.72 GiB (download: 2.72 GiB, generated: Unknown size, total: 2.72 GiB) to /home/jupyter/tensorflow_datasets/cifar10_corrupted/shot_noise_5/1.0.0...\u001b[0m\n",
      "\u001b[1mDataset cifar10_corrupted downloaded and prepared to /home/jupyter/tensorflow_datasets/cifar10_corrupted/shot_noise_5/1.0.0. Subsequent calls will reuse this data.\u001b[0m\n"
     ]
    },
    {
     "name": "stderr",
     "output_type": "stream",
     "text": [
      " 79%|███████▉  | 15/19 [02:29<00:33,  8.34s/it]"
     ]
    },
    {
     "name": "stdout",
     "output_type": "stream",
     "text": [
      "Test accuracy on shot_noise_5: 45.260000228881836%\n",
      "Processing snow_5\n",
      "\u001b[1mDownloading and preparing dataset 2.72 GiB (download: 2.72 GiB, generated: Unknown size, total: 2.72 GiB) to /home/jupyter/tensorflow_datasets/cifar10_corrupted/snow_5/1.0.0...\u001b[0m\n",
      "\u001b[1mDataset cifar10_corrupted downloaded and prepared to /home/jupyter/tensorflow_datasets/cifar10_corrupted/snow_5/1.0.0. Subsequent calls will reuse this data.\u001b[0m\n"
     ]
    },
    {
     "name": "stderr",
     "output_type": "stream",
     "text": [
      " 84%|████████▍ | 16/19 [02:39<00:26,  8.73s/it]"
     ]
    },
    {
     "name": "stdout",
     "output_type": "stream",
     "text": [
      "Test accuracy on snow_5: 63.419997692108154%\n",
      "Processing spatter_5\n",
      "\u001b[1mDownloading and preparing dataset 2.72 GiB (download: 2.72 GiB, generated: Unknown size, total: 2.72 GiB) to /home/jupyter/tensorflow_datasets/cifar10_corrupted/spatter_5/1.0.0...\u001b[0m\n",
      "\u001b[1mDataset cifar10_corrupted downloaded and prepared to /home/jupyter/tensorflow_datasets/cifar10_corrupted/spatter_5/1.0.0. Subsequent calls will reuse this data.\u001b[0m\n"
     ]
    },
    {
     "name": "stderr",
     "output_type": "stream",
     "text": [
      " 89%|████████▉ | 17/19 [02:49<00:18,  9.10s/it]"
     ]
    },
    {
     "name": "stdout",
     "output_type": "stream",
     "text": [
      "Test accuracy on spatter_5: 63.88000249862671%\n",
      "Processing speckle_noise_5\n",
      "\u001b[1mDownloading and preparing dataset 2.72 GiB (download: 2.72 GiB, generated: Unknown size, total: 2.72 GiB) to /home/jupyter/tensorflow_datasets/cifar10_corrupted/speckle_noise_5/1.0.0...\u001b[0m\n",
      "\u001b[1mDataset cifar10_corrupted downloaded and prepared to /home/jupyter/tensorflow_datasets/cifar10_corrupted/speckle_noise_5/1.0.0. Subsequent calls will reuse this data.\u001b[0m\n"
     ]
    },
    {
     "name": "stderr",
     "output_type": "stream",
     "text": [
      " 95%|█████████▍| 18/19 [02:59<00:09,  9.37s/it]"
     ]
    },
    {
     "name": "stdout",
     "output_type": "stream",
     "text": [
      "Test accuracy on speckle_noise_5: 46.880000829696655%\n",
      "Processing zoom_blur_5\n",
      "\u001b[1mDownloading and preparing dataset 2.72 GiB (download: 2.72 GiB, generated: Unknown size, total: 2.72 GiB) to /home/jupyter/tensorflow_datasets/cifar10_corrupted/zoom_blur_5/1.0.0...\u001b[0m\n",
      "\u001b[1mDataset cifar10_corrupted downloaded and prepared to /home/jupyter/tensorflow_datasets/cifar10_corrupted/zoom_blur_5/1.0.0. Subsequent calls will reuse this data.\u001b[0m\n"
     ]
    },
    {
     "name": "stderr",
     "output_type": "stream",
     "text": [
      "100%|██████████| 19/19 [03:09<00:00,  9.97s/it]"
     ]
    },
    {
     "name": "stdout",
     "output_type": "stream",
     "text": [
      "Test accuracy on zoom_blur_5: 78.329998254776%\n",
      "59.21105271891544\n"
     ]
    },
    {
     "name": "stderr",
     "output_type": "stream",
     "text": [
      "\n"
     ]
    }
   ],
   "source": [
    "# Evaluate teacher model trained with SWA\n",
    "teacher_model_swa = get_training_model()\n",
    "teacher_model_swa.load_weights(\"teacher_model_swa.h5\")\n",
    "teacher_model_swa.compile(loss=\"sparse_categorical_crossentropy\",\n",
    "                         metrics=[\"accuracy\"])\n",
    "acc_dict, mean_top_1 = evaluate_model(teacher_model_swa)\n",
    "print(mean_top_1)"
   ]
  },
  {
   "cell_type": "code",
   "execution_count": 17,
   "id": "comparative-indian",
   "metadata": {},
   "outputs": [
    {
     "name": "stderr",
     "output_type": "stream",
     "text": [
      "  0%|          | 0/19 [00:00<?, ?it/s]"
     ]
    },
    {
     "name": "stdout",
     "output_type": "stream",
     "text": [
      "Processing brightness_5\n"
     ]
    },
    {
     "name": "stderr",
     "output_type": "stream",
     "text": [
      "  5%|▌         | 1/19 [00:03<01:03,  3.52s/it]"
     ]
    },
    {
     "name": "stdout",
     "output_type": "stream",
     "text": [
      "Test accuracy on brightness_5: 80.91999888420105%\n",
      "Processing contrast_5\n"
     ]
    },
    {
     "name": "stderr",
     "output_type": "stream",
     "text": [
      " 11%|█         | 2/19 [00:05<00:45,  2.70s/it]"
     ]
    },
    {
     "name": "stdout",
     "output_type": "stream",
     "text": [
      "Test accuracy on contrast_5: 23.080000281333923%\n",
      "Processing defocus_blur_5\n"
     ]
    },
    {
     "name": "stderr",
     "output_type": "stream",
     "text": [
      " 16%|█▌        | 3/19 [00:07<00:39,  2.45s/it]"
     ]
    },
    {
     "name": "stdout",
     "output_type": "stream",
     "text": [
      "Test accuracy on defocus_blur_5: 70.6499993801117%\n",
      "Processing elastic_5\n"
     ]
    },
    {
     "name": "stderr",
     "output_type": "stream",
     "text": [
      " 21%|██        | 4/19 [00:09<00:34,  2.33s/it]"
     ]
    },
    {
     "name": "stdout",
     "output_type": "stream",
     "text": [
      "Test accuracy on elastic_5: 72.32999801635742%\n",
      "Processing fog_5\n"
     ]
    },
    {
     "name": "stderr",
     "output_type": "stream",
     "text": [
      " 26%|██▋       | 5/19 [00:12<00:31,  2.25s/it]"
     ]
    },
    {
     "name": "stdout",
     "output_type": "stream",
     "text": [
      "Test accuracy on fog_5: 47.690001130104065%\n",
      "Processing frost_5\n"
     ]
    },
    {
     "name": "stderr",
     "output_type": "stream",
     "text": [
      " 32%|███▏      | 6/19 [00:14<00:28,  2.21s/it]"
     ]
    },
    {
     "name": "stdout",
     "output_type": "stream",
     "text": [
      "Test accuracy on frost_5: 58.8699996471405%\n",
      "Processing frosted_glass_blur_5\n"
     ]
    },
    {
     "name": "stderr",
     "output_type": "stream",
     "text": [
      " 37%|███▋      | 7/19 [00:16<00:26,  2.18s/it]"
     ]
    },
    {
     "name": "stdout",
     "output_type": "stream",
     "text": [
      "Test accuracy on frosted_glass_blur_5: 58.789998292922974%\n",
      "Processing gaussian_blur_5\n"
     ]
    },
    {
     "name": "stderr",
     "output_type": "stream",
     "text": [
      " 42%|████▏     | 8/19 [00:18<00:23,  2.17s/it]"
     ]
    },
    {
     "name": "stdout",
     "output_type": "stream",
     "text": [
      "Test accuracy on gaussian_blur_5: 65.67999720573425%\n",
      "Processing gaussian_noise_5\n"
     ]
    },
    {
     "name": "stderr",
     "output_type": "stream",
     "text": [
      " 47%|████▋     | 9/19 [00:20<00:21,  2.16s/it]"
     ]
    },
    {
     "name": "stdout",
     "output_type": "stream",
     "text": [
      "Test accuracy on gaussian_noise_5: 43.43999922275543%\n",
      "Processing impulse_noise_5\n"
     ]
    },
    {
     "name": "stderr",
     "output_type": "stream",
     "text": [
      " 53%|█████▎    | 10/19 [00:22<00:19,  2.16s/it]"
     ]
    },
    {
     "name": "stdout",
     "output_type": "stream",
     "text": [
      "Test accuracy on impulse_noise_5: 25.839999318122864%\n",
      "Processing jpeg_compression_5\n"
     ]
    },
    {
     "name": "stderr",
     "output_type": "stream",
     "text": [
      " 58%|█████▊    | 11/19 [00:24<00:17,  2.15s/it]"
     ]
    },
    {
     "name": "stdout",
     "output_type": "stream",
     "text": [
      "Test accuracy on jpeg_compression_5: 75.58000087738037%\n",
      "Processing motion_blur_5\n"
     ]
    },
    {
     "name": "stderr",
     "output_type": "stream",
     "text": [
      " 63%|██████▎   | 12/19 [00:27<00:14,  2.14s/it]"
     ]
    },
    {
     "name": "stdout",
     "output_type": "stream",
     "text": [
      "Test accuracy on motion_blur_5: 64.92999792098999%\n",
      "Processing pixelate_5\n"
     ]
    },
    {
     "name": "stderr",
     "output_type": "stream",
     "text": [
      " 68%|██████▊   | 13/19 [00:29<00:12,  2.14s/it]"
     ]
    },
    {
     "name": "stdout",
     "output_type": "stream",
     "text": [
      "Test accuracy on pixelate_5: 72.46000170707703%\n",
      "Processing saturate_5\n"
     ]
    },
    {
     "name": "stderr",
     "output_type": "stream",
     "text": [
      " 74%|███████▎  | 14/19 [00:31<00:10,  2.14s/it]"
     ]
    },
    {
     "name": "stdout",
     "output_type": "stream",
     "text": [
      "Test accuracy on saturate_5: 76.910001039505%\n",
      "Processing shot_noise_5\n"
     ]
    },
    {
     "name": "stderr",
     "output_type": "stream",
     "text": [
      " 79%|███████▉  | 15/19 [00:33<00:08,  2.14s/it]"
     ]
    },
    {
     "name": "stdout",
     "output_type": "stream",
     "text": [
      "Test accuracy on shot_noise_5: 48.48000109195709%\n",
      "Processing snow_5\n"
     ]
    },
    {
     "name": "stderr",
     "output_type": "stream",
     "text": [
      " 84%|████████▍ | 16/19 [00:35<00:06,  2.14s/it]"
     ]
    },
    {
     "name": "stdout",
     "output_type": "stream",
     "text": [
      "Test accuracy on snow_5: 64.27000164985657%\n",
      "Processing spatter_5\n"
     ]
    },
    {
     "name": "stderr",
     "output_type": "stream",
     "text": [
      " 89%|████████▉ | 17/19 [00:37<00:04,  2.13s/it]"
     ]
    },
    {
     "name": "stdout",
     "output_type": "stream",
     "text": [
      "Test accuracy on spatter_5: 66.00000262260437%\n",
      "Processing speckle_noise_5\n"
     ]
    },
    {
     "name": "stderr",
     "output_type": "stream",
     "text": [
      " 95%|█████████▍| 18/19 [00:39<00:02,  2.13s/it]"
     ]
    },
    {
     "name": "stdout",
     "output_type": "stream",
     "text": [
      "Test accuracy on speckle_noise_5: 48.85999858379364%\n",
      "Processing zoom_blur_5\n"
     ]
    },
    {
     "name": "stderr",
     "output_type": "stream",
     "text": [
      "100%|██████████| 19/19 [00:41<00:00,  2.21s/it]"
     ]
    },
    {
     "name": "stdout",
     "output_type": "stream",
     "text": [
      "Test accuracy on zoom_blur_5: 77.31000185012817%\n",
      "60.10999993274086\n"
     ]
    },
    {
     "name": "stderr",
     "output_type": "stream",
     "text": [
      "\n"
     ]
    }
   ],
   "source": [
    "# Evaluate the corresponding student model\n",
    "student_noisy_swa = get_training_model()\n",
    "student_noisy_swa.load_weights(\"student_noisy_swa.h5\")\n",
    "student_noisy_swa.compile(loss=\"sparse_categorical_crossentropy\",\n",
    "                         metrics=[\"accuracy\"])\n",
    "acc_dict, mean_top_1 = evaluate_model(student_noisy_swa)\n",
    "print(mean_top_1)"
   ]
  },
  {
   "cell_type": "code",
   "execution_count": 18,
   "id": "handed-acting",
   "metadata": {},
   "outputs": [
    {
     "name": "stderr",
     "output_type": "stream",
     "text": [
      "  0%|          | 0/19 [00:00<?, ?it/s]"
     ]
    },
    {
     "name": "stdout",
     "output_type": "stream",
     "text": [
      "Processing brightness_5\n"
     ]
    },
    {
     "name": "stderr",
     "output_type": "stream",
     "text": [
      "  5%|▌         | 1/19 [00:03<00:58,  3.25s/it]"
     ]
    },
    {
     "name": "stdout",
     "output_type": "stream",
     "text": [
      "Test accuracy on brightness_5: 72.39000201225281%\n",
      "Processing contrast_5\n"
     ]
    },
    {
     "name": "stderr",
     "output_type": "stream",
     "text": [
      " 11%|█         | 2/19 [00:05<00:43,  2.58s/it]"
     ]
    },
    {
     "name": "stdout",
     "output_type": "stream",
     "text": [
      "Test accuracy on contrast_5: 21.649999916553497%\n",
      "Processing defocus_blur_5\n"
     ]
    },
    {
     "name": "stderr",
     "output_type": "stream",
     "text": [
      " 16%|█▌        | 3/19 [00:07<00:37,  2.36s/it]"
     ]
    },
    {
     "name": "stdout",
     "output_type": "stream",
     "text": [
      "Test accuracy on defocus_blur_5: 71.20000123977661%\n",
      "Processing elastic_5\n"
     ]
    },
    {
     "name": "stderr",
     "output_type": "stream",
     "text": [
      " 21%|██        | 4/19 [00:09<00:33,  2.26s/it]"
     ]
    },
    {
     "name": "stdout",
     "output_type": "stream",
     "text": [
      "Test accuracy on elastic_5: 72.49000072479248%\n",
      "Processing fog_5\n"
     ]
    },
    {
     "name": "stderr",
     "output_type": "stream",
     "text": [
      " 26%|██▋       | 5/19 [00:11<00:30,  2.21s/it]"
     ]
    },
    {
     "name": "stdout",
     "output_type": "stream",
     "text": [
      "Test accuracy on fog_5: 45.14000117778778%\n",
      "Processing frost_5\n"
     ]
    },
    {
     "name": "stderr",
     "output_type": "stream",
     "text": [
      " 32%|███▏      | 6/19 [00:13<00:28,  2.17s/it]"
     ]
    },
    {
     "name": "stdout",
     "output_type": "stream",
     "text": [
      "Test accuracy on frost_5: 60.29000282287598%\n",
      "Processing frosted_glass_blur_5\n"
     ]
    },
    {
     "name": "stderr",
     "output_type": "stream",
     "text": [
      " 37%|███▋      | 7/19 [00:15<00:25,  2.15s/it]"
     ]
    },
    {
     "name": "stdout",
     "output_type": "stream",
     "text": [
      "Test accuracy on frosted_glass_blur_5: 60.97999811172485%\n",
      "Processing gaussian_blur_5\n"
     ]
    },
    {
     "name": "stderr",
     "output_type": "stream",
     "text": [
      " 42%|████▏     | 8/19 [00:18<00:23,  2.14s/it]"
     ]
    },
    {
     "name": "stdout",
     "output_type": "stream",
     "text": [
      "Test accuracy on gaussian_blur_5: 66.53000116348267%\n",
      "Processing gaussian_noise_5\n"
     ]
    },
    {
     "name": "stderr",
     "output_type": "stream",
     "text": [
      " 47%|████▋     | 9/19 [00:20<00:21,  2.13s/it]"
     ]
    },
    {
     "name": "stdout",
     "output_type": "stream",
     "text": [
      "Test accuracy on gaussian_noise_5: 43.389999866485596%\n",
      "Processing impulse_noise_5\n"
     ]
    },
    {
     "name": "stderr",
     "output_type": "stream",
     "text": [
      " 53%|█████▎    | 10/19 [00:22<00:19,  2.12s/it]"
     ]
    },
    {
     "name": "stdout",
     "output_type": "stream",
     "text": [
      "Test accuracy on impulse_noise_5: 21.490000188350677%\n",
      "Processing jpeg_compression_5\n"
     ]
    },
    {
     "name": "stderr",
     "output_type": "stream",
     "text": [
      " 58%|█████▊    | 11/19 [00:24<00:16,  2.12s/it]"
     ]
    },
    {
     "name": "stdout",
     "output_type": "stream",
     "text": [
      "Test accuracy on jpeg_compression_5: 77.93999910354614%\n",
      "Processing motion_blur_5\n"
     ]
    },
    {
     "name": "stderr",
     "output_type": "stream",
     "text": [
      " 63%|██████▎   | 12/19 [00:26<00:14,  2.12s/it]"
     ]
    },
    {
     "name": "stdout",
     "output_type": "stream",
     "text": [
      "Test accuracy on motion_blur_5: 64.2799973487854%\n",
      "Processing pixelate_5\n"
     ]
    },
    {
     "name": "stderr",
     "output_type": "stream",
     "text": [
      " 68%|██████▊   | 13/19 [00:28<00:12,  2.12s/it]"
     ]
    },
    {
     "name": "stdout",
     "output_type": "stream",
     "text": [
      "Test accuracy on pixelate_5: 75.16000270843506%\n",
      "Processing saturate_5\n"
     ]
    },
    {
     "name": "stderr",
     "output_type": "stream",
     "text": [
      " 74%|███████▎  | 14/19 [00:30<00:10,  2.11s/it]"
     ]
    },
    {
     "name": "stdout",
     "output_type": "stream",
     "text": [
      "Test accuracy on saturate_5: 66.47999882698059%\n",
      "Processing shot_noise_5\n"
     ]
    },
    {
     "name": "stderr",
     "output_type": "stream",
     "text": [
      " 79%|███████▉  | 15/19 [00:32<00:08,  2.11s/it]"
     ]
    },
    {
     "name": "stdout",
     "output_type": "stream",
     "text": [
      "Test accuracy on shot_noise_5: 48.179998993873596%\n",
      "Processing snow_5\n"
     ]
    },
    {
     "name": "stderr",
     "output_type": "stream",
     "text": [
      " 84%|████████▍ | 16/19 [00:34<00:06,  2.11s/it]"
     ]
    },
    {
     "name": "stdout",
     "output_type": "stream",
     "text": [
      "Test accuracy on snow_5: 63.70999813079834%\n",
      "Processing spatter_5\n"
     ]
    },
    {
     "name": "stderr",
     "output_type": "stream",
     "text": [
      " 89%|████████▉ | 17/19 [00:36<00:04,  2.11s/it]"
     ]
    },
    {
     "name": "stdout",
     "output_type": "stream",
     "text": [
      "Test accuracy on spatter_5: 61.169999837875366%\n",
      "Processing speckle_noise_5\n"
     ]
    },
    {
     "name": "stderr",
     "output_type": "stream",
     "text": [
      " 95%|█████████▍| 18/19 [00:39<00:02,  2.11s/it]"
     ]
    },
    {
     "name": "stdout",
     "output_type": "stream",
     "text": [
      "Test accuracy on speckle_noise_5: 48.2699990272522%\n",
      "Processing zoom_blur_5\n"
     ]
    },
    {
     "name": "stderr",
     "output_type": "stream",
     "text": [
      "100%|██████████| 19/19 [00:41<00:00,  2.17s/it]"
     ]
    },
    {
     "name": "stdout",
     "output_type": "stream",
     "text": [
      "Test accuracy on zoom_blur_5: 76.78999900817871%\n",
      "58.81736843209518\n"
     ]
    },
    {
     "name": "stderr",
     "output_type": "stream",
     "text": [
      "\n"
     ]
    }
   ],
   "source": [
    "# Evaluate teacher model trained with MA\n",
    "teacher_model_ma = get_training_model()\n",
    "teacher_model_ma.load_weights(\"teacher_model_ma.h5\")\n",
    "teacher_model_ma.compile(loss=\"sparse_categorical_crossentropy\",\n",
    "                         metrics=[\"accuracy\"])\n",
    "acc_dict, mean_top_1 = evaluate_model(teacher_model_ma)\n",
    "print(mean_top_1)"
   ]
  },
  {
   "cell_type": "code",
   "execution_count": 19,
   "id": "surrounded-minnesota",
   "metadata": {},
   "outputs": [
    {
     "name": "stderr",
     "output_type": "stream",
     "text": [
      "  0%|          | 0/19 [00:00<?, ?it/s]"
     ]
    },
    {
     "name": "stdout",
     "output_type": "stream",
     "text": [
      "Processing brightness_5\n"
     ]
    },
    {
     "name": "stderr",
     "output_type": "stream",
     "text": [
      "  5%|▌         | 1/19 [00:03<00:59,  3.32s/it]"
     ]
    },
    {
     "name": "stdout",
     "output_type": "stream",
     "text": [
      "Test accuracy on brightness_5: 78.72999906539917%\n",
      "Processing contrast_5\n"
     ]
    },
    {
     "name": "stderr",
     "output_type": "stream",
     "text": [
      " 11%|█         | 2/19 [00:05<00:44,  2.62s/it]"
     ]
    },
    {
     "name": "stdout",
     "output_type": "stream",
     "text": [
      "Test accuracy on contrast_5: 20.520000159740448%\n",
      "Processing defocus_blur_5\n"
     ]
    },
    {
     "name": "stderr",
     "output_type": "stream",
     "text": [
      " 16%|█▌        | 3/19 [00:07<00:38,  2.41s/it]"
     ]
    },
    {
     "name": "stdout",
     "output_type": "stream",
     "text": [
      "Test accuracy on defocus_blur_5: 64.96999859809875%\n",
      "Processing elastic_5\n"
     ]
    },
    {
     "name": "stderr",
     "output_type": "stream",
     "text": [
      " 21%|██        | 4/19 [00:09<00:34,  2.31s/it]"
     ]
    },
    {
     "name": "stdout",
     "output_type": "stream",
     "text": [
      "Test accuracy on elastic_5: 69.12000179290771%\n",
      "Processing fog_5\n"
     ]
    },
    {
     "name": "stderr",
     "output_type": "stream",
     "text": [
      " 26%|██▋       | 5/19 [00:11<00:31,  2.26s/it]"
     ]
    },
    {
     "name": "stdout",
     "output_type": "stream",
     "text": [
      "Test accuracy on fog_5: 45.71000039577484%\n",
      "Processing frost_5\n"
     ]
    },
    {
     "name": "stderr",
     "output_type": "stream",
     "text": [
      " 32%|███▏      | 6/19 [00:14<00:28,  2.22s/it]"
     ]
    },
    {
     "name": "stdout",
     "output_type": "stream",
     "text": [
      "Test accuracy on frost_5: 52.34000086784363%\n",
      "Processing frosted_glass_blur_5\n"
     ]
    },
    {
     "name": "stderr",
     "output_type": "stream",
     "text": [
      " 37%|███▋      | 7/19 [00:16<00:27,  2.28s/it]"
     ]
    },
    {
     "name": "stdout",
     "output_type": "stream",
     "text": [
      "Test accuracy on frosted_glass_blur_5: 56.199997663497925%\n",
      "Processing gaussian_blur_5\n"
     ]
    },
    {
     "name": "stderr",
     "output_type": "stream",
     "text": [
      " 42%|████▏     | 8/19 [00:18<00:24,  2.24s/it]"
     ]
    },
    {
     "name": "stdout",
     "output_type": "stream",
     "text": [
      "Test accuracy on gaussian_blur_5: 59.32999849319458%\n",
      "Processing gaussian_noise_5\n"
     ]
    },
    {
     "name": "stderr",
     "output_type": "stream",
     "text": [
      " 47%|████▋     | 9/19 [00:20<00:22,  2.20s/it]"
     ]
    },
    {
     "name": "stdout",
     "output_type": "stream",
     "text": [
      "Test accuracy on gaussian_noise_5: 43.25999915599823%\n",
      "Processing impulse_noise_5\n"
     ]
    },
    {
     "name": "stderr",
     "output_type": "stream",
     "text": [
      " 53%|█████▎    | 10/19 [00:22<00:19,  2.19s/it]"
     ]
    },
    {
     "name": "stdout",
     "output_type": "stream",
     "text": [
      "Test accuracy on impulse_noise_5: 26.96000039577484%\n",
      "Processing jpeg_compression_5\n"
     ]
    },
    {
     "name": "stderr",
     "output_type": "stream",
     "text": [
      " 58%|█████▊    | 11/19 [00:25<00:17,  2.17s/it]"
     ]
    },
    {
     "name": "stdout",
     "output_type": "stream",
     "text": [
      "Test accuracy on jpeg_compression_5: 74.3399977684021%\n",
      "Processing motion_blur_5\n"
     ]
    },
    {
     "name": "stderr",
     "output_type": "stream",
     "text": [
      " 63%|██████▎   | 12/19 [00:27<00:15,  2.16s/it]"
     ]
    },
    {
     "name": "stdout",
     "output_type": "stream",
     "text": [
      "Test accuracy on motion_blur_5: 58.810001611709595%\n",
      "Processing pixelate_5\n"
     ]
    },
    {
     "name": "stderr",
     "output_type": "stream",
     "text": [
      " 68%|██████▊   | 13/19 [00:29<00:12,  2.15s/it]"
     ]
    },
    {
     "name": "stdout",
     "output_type": "stream",
     "text": [
      "Test accuracy on pixelate_5: 73.48999977111816%\n",
      "Processing saturate_5\n"
     ]
    },
    {
     "name": "stderr",
     "output_type": "stream",
     "text": [
      " 74%|███████▎  | 14/19 [00:31<00:10,  2.15s/it]"
     ]
    },
    {
     "name": "stdout",
     "output_type": "stream",
     "text": [
      "Test accuracy on saturate_5: 77.53999829292297%\n",
      "Processing shot_noise_5\n"
     ]
    },
    {
     "name": "stderr",
     "output_type": "stream",
     "text": [
      " 79%|███████▉  | 15/19 [00:33<00:08,  2.15s/it]"
     ]
    },
    {
     "name": "stdout",
     "output_type": "stream",
     "text": [
      "Test accuracy on shot_noise_5: 47.56999909877777%\n",
      "Processing snow_5\n"
     ]
    },
    {
     "name": "stderr",
     "output_type": "stream",
     "text": [
      " 84%|████████▍ | 16/19 [00:35<00:06,  2.15s/it]"
     ]
    },
    {
     "name": "stdout",
     "output_type": "stream",
     "text": [
      "Test accuracy on snow_5: 59.24999713897705%\n",
      "Processing spatter_5\n"
     ]
    },
    {
     "name": "stderr",
     "output_type": "stream",
     "text": [
      " 89%|████████▉ | 17/19 [00:37<00:04,  2.15s/it]"
     ]
    },
    {
     "name": "stdout",
     "output_type": "stream",
     "text": [
      "Test accuracy on spatter_5: 66.25000238418579%\n",
      "Processing speckle_noise_5\n"
     ]
    },
    {
     "name": "stderr",
     "output_type": "stream",
     "text": [
      " 95%|█████████▍| 18/19 [00:40<00:02,  2.15s/it]"
     ]
    },
    {
     "name": "stdout",
     "output_type": "stream",
     "text": [
      "Test accuracy on speckle_noise_5: 48.42999875545502%\n",
      "Processing zoom_blur_5\n"
     ]
    },
    {
     "name": "stderr",
     "output_type": "stream",
     "text": [
      "100%|██████████| 19/19 [00:42<00:00,  2.22s/it]"
     ]
    },
    {
     "name": "stdout",
     "output_type": "stream",
     "text": [
      "Test accuracy on zoom_blur_5: 72.94999957084656%\n",
      "57.67210478845396\n"
     ]
    },
    {
     "name": "stderr",
     "output_type": "stream",
     "text": [
      "\n"
     ]
    }
   ],
   "source": [
    "# Evaluate the corresponding student model\n",
    "student_noisy_ma = get_training_model()\n",
    "student_noisy_ma.load_weights(\"student_noisy_ma.h5\")\n",
    "student_noisy_ma.compile(loss=\"sparse_categorical_crossentropy\",\n",
    "                         metrics=[\"accuracy\"])\n",
    "acc_dict, mean_top_1 = evaluate_model(student_noisy_ma)\n",
    "print(mean_top_1)"
   ]
  }
 ],
 "metadata": {
  "environment": {
   "name": "tf2-gpu.2-4.mnightly-2021-01-20-debian-10-test",
   "type": "gcloud",
   "uri": "gcr.io/deeplearning-platform-release/tf2-gpu.2-4:mnightly-2021-01-20-debian-10-test"
  },
  "kernelspec": {
   "display_name": "Python 3",
   "language": "python",
   "name": "python3"
  },
  "language_info": {
   "codemirror_mode": {
    "name": "ipython",
    "version": 3
   },
   "file_extension": ".py",
   "mimetype": "text/x-python",
   "name": "python",
   "nbconvert_exporter": "python",
   "pygments_lexer": "ipython3",
   "version": "3.7.9"
  }
 },
 "nbformat": 4,
 "nbformat_minor": 5
}
