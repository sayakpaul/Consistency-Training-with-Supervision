{
 "cells": [
  {
   "cell_type": "markdown",
   "id": "japanese-airfare",
   "metadata": {},
   "source": [
    "## Setup"
   ]
  },
  {
   "cell_type": "code",
   "execution_count": 1,
   "id": "instrumental-viewer",
   "metadata": {},
   "outputs": [
    {
     "name": "stdout",
     "output_type": "stream",
     "text": [
      "Downloading...\n",
      "From: https://drive.google.com/uc?id=1-0mtggsTMLDmbT7cmxdIBH25eAieTyGb\n",
      "To: /home/jupyter/teacher_model_swa.h5\n",
      "94.6MB [00:01, 83.5MB/s]\n",
      "Downloading...\n",
      "From: https://drive.google.com/uc?id=1--EvBdSAnNaBtKozkMuja--lq8erN0uC\n",
      "To: /home/jupyter/student_noisy_swa.h5\n",
      "94.6MB [00:01, 85.7MB/s]\n",
      "Downloading...\n",
      "From: https://drive.google.com/uc?id=1M0JwphtV6W1NM6V2Qv_VMTdjWdeAz6Sx\n",
      "To: /home/jupyter/teacher_model_ma.h5\n",
      "94.6MB [00:01, 71.0MB/s]\n",
      "Downloading...\n",
      "From: https://drive.google.com/uc?id=1pW2hx6fkQGH8fXFfh8Fn8xPADuYBy5mG\n",
      "To: /home/jupyter/student_noisy_ma.h5\n",
      "94.6MB [00:01, 63.9MB/s]\n"
     ]
    }
   ],
   "source": [
    "# SWA weights\n",
    "!/home/jupyter/.local/bin/gdown --id 1-0mtggsTMLDmbT7cmxdIBH25eAieTyGb\n",
    "!/home/jupyter/.local/bin/gdown --id 1--EvBdSAnNaBtKozkMuja--lq8erN0uC\n",
    "\n",
    "# MA weights\n",
    "!/home/jupyter/.local/bin/gdown --id 1M0JwphtV6W1NM6V2Qv_VMTdjWdeAz6Sx\n",
    "!/home/jupyter/.local/bin/gdown --id 1pW2hx6fkQGH8fXFfh8Fn8xPADuYBy5mG"
   ]
  },
  {
   "cell_type": "code",
   "execution_count": 2,
   "id": "weird-declaration",
   "metadata": {},
   "outputs": [],
   "source": [
    "from tensorflow.keras import layers\n",
    "import tensorflow as tf\n",
    "\n",
    "import tensorflow_datasets as tfds\n",
    "tfds.disable_progress_bar()\n",
    "\n",
    "from tqdm import tqdm\n",
    "import numpy as np"
   ]
  },
  {
   "cell_type": "markdown",
   "id": "hidden-institute",
   "metadata": {},
   "source": [
    "## Define Hyperparameters"
   ]
  },
  {
   "cell_type": "code",
   "execution_count": 3,
   "id": "complimentary-trust",
   "metadata": {},
   "outputs": [],
   "source": [
    "AUTO = tf.data.AUTOTUNE\n",
    "DATASET_NAME = \"cifar10_corrupted\"\n",
    "BATCH_SIZE = 64\n",
    "IMAGE_SIZE = 72"
   ]
  },
  {
   "cell_type": "code",
   "execution_count": 4,
   "id": "aggressive-headquarters",
   "metadata": {},
   "outputs": [
    {
     "name": "stdout",
     "output_type": "stream",
     "text": [
      "Total sub-versions of the CIFAR10-C dataset: 19\n"
     ]
    }
   ],
   "source": [
    "VERSIONS = [\n",
    "    \"brightness_5\",\n",
    "    \"contrast_5\",\n",
    "    \"defocus_blur_5\",\n",
    "    \"elastic_5\",\n",
    "    \"fog_5\",\n",
    "    \"frost_5\",\n",
    "    \"frosted_glass_blur_5\",\n",
    "    \"gaussian_blur_5\",\n",
    "    \"gaussian_noise_5\",\n",
    "    \"impulse_noise_5\",\n",
    "    \"jpeg_compression_5\",\n",
    "    \"motion_blur_5\",\n",
    "    \"pixelate_5\",\n",
    "    \"saturate_5\",\n",
    "    \"shot_noise_5\",\n",
    "    \"snow_5\",\n",
    "    \"spatter_5\",\n",
    "    \"speckle_noise_5\",\n",
    "    \"zoom_blur_5\"\n",
    "]\n",
    "\n",
    "print(f\"Total sub-versions of the CIFAR10-C dataset: {len(VERSIONS)}\")"
   ]
  },
  {
   "cell_type": "markdown",
   "id": "dried-ladder",
   "metadata": {},
   "source": [
    "## Utilities"
   ]
  },
  {
   "cell_type": "code",
   "execution_count": 5,
   "id": "informational-david",
   "metadata": {},
   "outputs": [],
   "source": [
    "def prepare_dataset(ds):\n",
    "    ds = (ds\n",
    "          .batch(BATCH_SIZE)\n",
    "          .map(lambda x, y: (tf.image.resize(x, (IMAGE_SIZE, IMAGE_SIZE)), y), \n",
    "               num_parallel_calls=AUTO)\n",
    "          .prefetch(AUTO)\n",
    "    )\n",
    "    return ds"
   ]
  },
  {
   "cell_type": "code",
   "execution_count": 6,
   "id": "duplicate-concert",
   "metadata": {},
   "outputs": [],
   "source": [
    "def get_training_model(num_classes=10):\n",
    "    resnet50_v2 = tf.keras.applications.ResNet50V2(\n",
    "        weights=None,\n",
    "        include_top=False,\n",
    "        input_shape=(IMAGE_SIZE, IMAGE_SIZE, 3),\n",
    "    )\n",
    "    model = tf.keras.Sequential(\n",
    "        [\n",
    "            layers.Input((IMAGE_SIZE, IMAGE_SIZE, 3)),\n",
    "            layers.experimental.preprocessing.Rescaling(scale=1.0 / 127.5, offset=-1),\n",
    "            resnet50_v2,\n",
    "            layers.GlobalAveragePooling2D(),\n",
    "            layers.Dense(num_classes)\n",
    "        ]\n",
    "    )\n",
    "    return model"
   ]
  },
  {
   "cell_type": "code",
   "execution_count": 7,
   "id": "posted-crazy",
   "metadata": {},
   "outputs": [],
   "source": [
    "def evaluate_model(model):\n",
    "    acc_dict = {}\n",
    "    for version in tqdm(VERSIONS):\n",
    "        print(f\"Processing {version}\")\n",
    "        dataset_fullname = DATASET_NAME + \"/\" + version\n",
    "        loaded_ds = tfds.load(\n",
    "            dataset_fullname,\n",
    "            split=\"test\",\n",
    "            as_supervised=True\n",
    "        )\n",
    "        loaded_ds = prepare_dataset(loaded_ds)\n",
    "        _, acc = model.evaluate(loaded_ds, verbose=0)\n",
    "        print(f\"Test accuracy on {version}: {acc*100}%\")\n",
    "        acc_dict[version] = acc*100\n",
    "        \n",
    "    return acc_dict, np.mean(list(acc_dict.values()))"
   ]
  },
  {
   "cell_type": "markdown",
   "id": "ignored-plant",
   "metadata": {},
   "source": [
    "## Evaluation"
   ]
  },
  {
   "cell_type": "markdown",
   "id": "spectacular-prefix",
   "metadata": {},
   "source": [
    "### SWA"
   ]
  },
  {
   "cell_type": "code",
   "execution_count": 8,
   "id": "standard-shareware",
   "metadata": {},
   "outputs": [
    {
     "name": "stderr",
     "output_type": "stream",
     "text": [
      "  0%|          | 0/19 [00:00<?, ?it/s]"
     ]
    },
    {
     "name": "stdout",
     "output_type": "stream",
     "text": [
      "Processing brightness_5\n"
     ]
    },
    {
     "name": "stderr",
     "output_type": "stream",
     "text": [
      "  5%|▌         | 1/19 [00:19<05:43, 19.09s/it]"
     ]
    },
    {
     "name": "stdout",
     "output_type": "stream",
     "text": [
      "Test accuracy on brightness_5: 76.05999708175659%\n",
      "Processing contrast_5\n"
     ]
    },
    {
     "name": "stderr",
     "output_type": "stream",
     "text": [
      " 11%|█         | 2/19 [00:21<02:36,  9.18s/it]"
     ]
    },
    {
     "name": "stdout",
     "output_type": "stream",
     "text": [
      "Test accuracy on contrast_5: 24.34999942779541%\n",
      "Processing defocus_blur_5\n"
     ]
    },
    {
     "name": "stderr",
     "output_type": "stream",
     "text": [
      " 16%|█▌        | 3/19 [00:23<01:36,  6.05s/it]"
     ]
    },
    {
     "name": "stdout",
     "output_type": "stream",
     "text": [
      "Test accuracy on defocus_blur_5: 71.59000039100647%\n",
      "Processing elastic_5\n"
     ]
    },
    {
     "name": "stderr",
     "output_type": "stream",
     "text": [
      " 21%|██        | 4/19 [00:25<01:08,  4.56s/it]"
     ]
    },
    {
     "name": "stdout",
     "output_type": "stream",
     "text": [
      "Test accuracy on elastic_5: 74.19999837875366%\n",
      "Processing fog_5\n"
     ]
    },
    {
     "name": "stderr",
     "output_type": "stream",
     "text": [
      " 26%|██▋       | 5/19 [00:28<00:52,  3.73s/it]"
     ]
    },
    {
     "name": "stdout",
     "output_type": "stream",
     "text": [
      "Test accuracy on fog_5: 48.28999936580658%\n",
      "Processing frost_5\n"
     ]
    },
    {
     "name": "stderr",
     "output_type": "stream",
     "text": [
      " 32%|███▏      | 6/19 [00:30<00:42,  3.28s/it]"
     ]
    },
    {
     "name": "stdout",
     "output_type": "stream",
     "text": [
      "Test accuracy on frost_5: 62.26999759674072%\n",
      "Processing frosted_glass_blur_5\n"
     ]
    },
    {
     "name": "stderr",
     "output_type": "stream",
     "text": [
      " 37%|███▋      | 7/19 [00:32<00:35,  2.99s/it]"
     ]
    },
    {
     "name": "stdout",
     "output_type": "stream",
     "text": [
      "Test accuracy on frosted_glass_blur_5: 58.980000019073486%\n",
      "Processing gaussian_blur_5\n"
     ]
    },
    {
     "name": "stderr",
     "output_type": "stream",
     "text": [
      " 42%|████▏     | 8/19 [00:35<00:30,  2.77s/it]"
     ]
    },
    {
     "name": "stdout",
     "output_type": "stream",
     "text": [
      "Test accuracy on gaussian_blur_5: 66.60000085830688%\n",
      "Processing gaussian_noise_5\n"
     ]
    },
    {
     "name": "stderr",
     "output_type": "stream",
     "text": [
      " 47%|████▋     | 9/19 [00:37<00:26,  2.62s/it]"
     ]
    },
    {
     "name": "stdout",
     "output_type": "stream",
     "text": [
      "Test accuracy on gaussian_noise_5: 41.909998655319214%\n",
      "Processing impulse_noise_5\n"
     ]
    },
    {
     "name": "stderr",
     "output_type": "stream",
     "text": [
      " 53%|█████▎    | 10/19 [00:39<00:22,  2.52s/it]"
     ]
    },
    {
     "name": "stdout",
     "output_type": "stream",
     "text": [
      "Test accuracy on impulse_noise_5: 23.970000445842743%\n",
      "Processing jpeg_compression_5\n"
     ]
    },
    {
     "name": "stderr",
     "output_type": "stream",
     "text": [
      " 58%|█████▊    | 11/19 [00:42<00:19,  2.44s/it]"
     ]
    },
    {
     "name": "stdout",
     "output_type": "stream",
     "text": [
      "Test accuracy on jpeg_compression_5: 79.1599988937378%\n",
      "Processing motion_blur_5\n"
     ]
    },
    {
     "name": "stderr",
     "output_type": "stream",
     "text": [
      " 63%|██████▎   | 12/19 [00:44<00:16,  2.39s/it]"
     ]
    },
    {
     "name": "stdout",
     "output_type": "stream",
     "text": [
      "Test accuracy on motion_blur_5: 65.77000021934509%\n",
      "Processing pixelate_5\n"
     ]
    },
    {
     "name": "stderr",
     "output_type": "stream",
     "text": [
      " 68%|██████▊   | 13/19 [00:46<00:14,  2.35s/it]"
     ]
    },
    {
     "name": "stdout",
     "output_type": "stream",
     "text": [
      "Test accuracy on pixelate_5: 73.51999878883362%\n",
      "Processing saturate_5\n"
     ]
    },
    {
     "name": "stderr",
     "output_type": "stream",
     "text": [
      " 74%|███████▎  | 14/19 [00:49<00:11,  2.37s/it]"
     ]
    },
    {
     "name": "stdout",
     "output_type": "stream",
     "text": [
      "Test accuracy on saturate_5: 69.6399986743927%\n",
      "Processing shot_noise_5\n"
     ]
    },
    {
     "name": "stderr",
     "output_type": "stream",
     "text": [
      " 79%|███████▉  | 15/19 [00:51<00:09,  2.32s/it]"
     ]
    },
    {
     "name": "stdout",
     "output_type": "stream",
     "text": [
      "Test accuracy on shot_noise_5: 45.21999955177307%\n",
      "Processing snow_5\n"
     ]
    },
    {
     "name": "stderr",
     "output_type": "stream",
     "text": [
      " 84%|████████▍ | 16/19 [00:53<00:06,  2.31s/it]"
     ]
    },
    {
     "name": "stdout",
     "output_type": "stream",
     "text": [
      "Test accuracy on snow_5: 65.39999842643738%\n",
      "Processing spatter_5\n"
     ]
    },
    {
     "name": "stderr",
     "output_type": "stream",
     "text": [
      " 89%|████████▉ | 17/19 [00:55<00:04,  2.29s/it]"
     ]
    },
    {
     "name": "stdout",
     "output_type": "stream",
     "text": [
      "Test accuracy on spatter_5: 64.16000127792358%\n",
      "Processing speckle_noise_5\n"
     ]
    },
    {
     "name": "stderr",
     "output_type": "stream",
     "text": [
      " 95%|█████████▍| 18/19 [00:58<00:02,  2.28s/it]"
     ]
    },
    {
     "name": "stdout",
     "output_type": "stream",
     "text": [
      "Test accuracy on speckle_noise_5: 45.62999904155731%\n",
      "Processing zoom_blur_5\n"
     ]
    },
    {
     "name": "stderr",
     "output_type": "stream",
     "text": [
      "100%|██████████| 19/19 [01:00<00:00,  3.18s/it]"
     ]
    },
    {
     "name": "stdout",
     "output_type": "stream",
     "text": [
      "Test accuracy on zoom_blur_5: 77.49000191688538%\n",
      "Mean Top-1 Accuracy: 59.695262579541456%\n"
     ]
    },
    {
     "name": "stderr",
     "output_type": "stream",
     "text": [
      "\n"
     ]
    }
   ],
   "source": [
    "# Evaluate teacher model trained with SWA\n",
    "teacher_model_swa = get_training_model()\n",
    "teacher_model_swa.load_weights(\"teacher_model_swa.h5\")\n",
    "teacher_model_swa.compile(loss=\"sparse_categorical_crossentropy\",\n",
    "                         metrics=[\"accuracy\"])\n",
    "acc_dict, mean_top_1 = evaluate_model(teacher_model_swa)\n",
    "print(f\"Mean Top-1 Accuracy: {mean_top_1}%\")"
   ]
  },
  {
   "cell_type": "code",
   "execution_count": 9,
   "id": "suffering-plaintiff",
   "metadata": {},
   "outputs": [
    {
     "name": "stderr",
     "output_type": "stream",
     "text": [
      "  0%|          | 0/19 [00:00<?, ?it/s]"
     ]
    },
    {
     "name": "stdout",
     "output_type": "stream",
     "text": [
      "Processing brightness_5\n"
     ]
    },
    {
     "name": "stderr",
     "output_type": "stream",
     "text": [
      "  5%|▌         | 1/19 [00:03<01:00,  3.35s/it]"
     ]
    },
    {
     "name": "stdout",
     "output_type": "stream",
     "text": [
      "Test accuracy on brightness_5: 82.91000127792358%\n",
      "Processing contrast_5\n"
     ]
    },
    {
     "name": "stderr",
     "output_type": "stream",
     "text": [
      " 11%|█         | 2/19 [00:05<00:44,  2.64s/it]"
     ]
    },
    {
     "name": "stdout",
     "output_type": "stream",
     "text": [
      "Test accuracy on contrast_5: 29.730001091957092%\n",
      "Processing defocus_blur_5\n"
     ]
    },
    {
     "name": "stderr",
     "output_type": "stream",
     "text": [
      " 16%|█▌        | 3/19 [00:07<00:38,  2.42s/it]"
     ]
    },
    {
     "name": "stdout",
     "output_type": "stream",
     "text": [
      "Test accuracy on defocus_blur_5: 73.00000190734863%\n",
      "Processing elastic_5\n"
     ]
    },
    {
     "name": "stderr",
     "output_type": "stream",
     "text": [
      " 21%|██        | 4/19 [00:09<00:34,  2.31s/it]"
     ]
    },
    {
     "name": "stdout",
     "output_type": "stream",
     "text": [
      "Test accuracy on elastic_5: 74.29999709129333%\n",
      "Processing fog_5\n"
     ]
    },
    {
     "name": "stderr",
     "output_type": "stream",
     "text": [
      " 26%|██▋       | 5/19 [00:11<00:31,  2.26s/it]"
     ]
    },
    {
     "name": "stdout",
     "output_type": "stream",
     "text": [
      "Test accuracy on fog_5: 50.26000142097473%\n",
      "Processing frost_5\n"
     ]
    },
    {
     "name": "stderr",
     "output_type": "stream",
     "text": [
      " 32%|███▏      | 6/19 [00:14<00:28,  2.22s/it]"
     ]
    },
    {
     "name": "stdout",
     "output_type": "stream",
     "text": [
      "Test accuracy on frost_5: 58.92000198364258%\n",
      "Processing frosted_glass_blur_5\n"
     ]
    },
    {
     "name": "stderr",
     "output_type": "stream",
     "text": [
      " 37%|███▋      | 7/19 [00:16<00:26,  2.20s/it]"
     ]
    },
    {
     "name": "stdout",
     "output_type": "stream",
     "text": [
      "Test accuracy on frosted_glass_blur_5: 59.78999733924866%\n",
      "Processing gaussian_blur_5\n"
     ]
    },
    {
     "name": "stderr",
     "output_type": "stream",
     "text": [
      " 42%|████▏     | 8/19 [00:18<00:24,  2.19s/it]"
     ]
    },
    {
     "name": "stdout",
     "output_type": "stream",
     "text": [
      "Test accuracy on gaussian_blur_5: 67.93000102043152%\n",
      "Processing gaussian_noise_5\n"
     ]
    },
    {
     "name": "stderr",
     "output_type": "stream",
     "text": [
      " 47%|████▋     | 9/19 [00:20<00:21,  2.18s/it]"
     ]
    },
    {
     "name": "stdout",
     "output_type": "stream",
     "text": [
      "Test accuracy on gaussian_noise_5: 46.25999927520752%\n",
      "Processing impulse_noise_5\n"
     ]
    },
    {
     "name": "stderr",
     "output_type": "stream",
     "text": [
      " 53%|█████▎    | 10/19 [00:22<00:19,  2.17s/it]"
     ]
    },
    {
     "name": "stdout",
     "output_type": "stream",
     "text": [
      "Test accuracy on impulse_noise_5: 30.98999857902527%\n",
      "Processing jpeg_compression_5\n"
     ]
    },
    {
     "name": "stderr",
     "output_type": "stream",
     "text": [
      " 58%|█████▊    | 11/19 [00:24<00:17,  2.16s/it]"
     ]
    },
    {
     "name": "stdout",
     "output_type": "stream",
     "text": [
      "Test accuracy on jpeg_compression_5: 76.39999985694885%\n",
      "Processing motion_blur_5\n"
     ]
    },
    {
     "name": "stderr",
     "output_type": "stream",
     "text": [
      " 63%|██████▎   | 12/19 [00:27<00:15,  2.16s/it]"
     ]
    },
    {
     "name": "stdout",
     "output_type": "stream",
     "text": [
      "Test accuracy on motion_blur_5: 66.72000288963318%\n",
      "Processing pixelate_5\n"
     ]
    },
    {
     "name": "stderr",
     "output_type": "stream",
     "text": [
      " 68%|██████▊   | 13/19 [00:29<00:12,  2.16s/it]"
     ]
    },
    {
     "name": "stdout",
     "output_type": "stream",
     "text": [
      "Test accuracy on pixelate_5: 73.94999861717224%\n",
      "Processing saturate_5\n"
     ]
    },
    {
     "name": "stderr",
     "output_type": "stream",
     "text": [
      " 74%|███████▎  | 14/19 [00:31<00:10,  2.16s/it]"
     ]
    },
    {
     "name": "stdout",
     "output_type": "stream",
     "text": [
      "Test accuracy on saturate_5: 81.05000257492065%\n",
      "Processing shot_noise_5\n"
     ]
    },
    {
     "name": "stderr",
     "output_type": "stream",
     "text": [
      " 79%|███████▉  | 15/19 [00:33<00:08,  2.16s/it]"
     ]
    },
    {
     "name": "stdout",
     "output_type": "stream",
     "text": [
      "Test accuracy on shot_noise_5: 51.88000202178955%\n",
      "Processing snow_5\n"
     ]
    },
    {
     "name": "stderr",
     "output_type": "stream",
     "text": [
      " 84%|████████▍ | 16/19 [00:35<00:06,  2.16s/it]"
     ]
    },
    {
     "name": "stdout",
     "output_type": "stream",
     "text": [
      "Test accuracy on snow_5: 65.82000255584717%\n",
      "Processing spatter_5\n"
     ]
    },
    {
     "name": "stderr",
     "output_type": "stream",
     "text": [
      " 89%|████████▉ | 17/19 [00:37<00:04,  2.15s/it]"
     ]
    },
    {
     "name": "stdout",
     "output_type": "stream",
     "text": [
      "Test accuracy on spatter_5: 70.31999826431274%\n",
      "Processing speckle_noise_5\n"
     ]
    },
    {
     "name": "stderr",
     "output_type": "stream",
     "text": [
      " 95%|█████████▍| 18/19 [00:39<00:02,  2.14s/it]"
     ]
    },
    {
     "name": "stdout",
     "output_type": "stream",
     "text": [
      "Test accuracy on speckle_noise_5: 53.46999764442444%\n",
      "Processing zoom_blur_5\n"
     ]
    },
    {
     "name": "stderr",
     "output_type": "stream",
     "text": [
      "100%|██████████| 19/19 [00:42<00:00,  2.21s/it]"
     ]
    },
    {
     "name": "stdout",
     "output_type": "stream",
     "text": [
      "Test accuracy on zoom_blur_5: 79.67000007629395%\n",
      "Mean Top-1 Accuracy: 62.80894765728399%\n"
     ]
    },
    {
     "name": "stderr",
     "output_type": "stream",
     "text": [
      "\n"
     ]
    }
   ],
   "source": [
    "# Evaluate the corresponding student model\n",
    "student_noisy_swa = get_training_model()\n",
    "student_noisy_swa.load_weights(\"student_noisy_swa.h5\")\n",
    "student_noisy_swa.compile(loss=\"sparse_categorical_crossentropy\",\n",
    "                         metrics=[\"accuracy\"])\n",
    "acc_dict, mean_top_1 = evaluate_model(student_noisy_swa)\n",
    "print(f\"Mean Top-1 Accuracy: {mean_top_1}%\")"
   ]
  },
  {
   "cell_type": "markdown",
   "id": "separated-rider",
   "metadata": {},
   "source": [
    "### MA"
   ]
  },
  {
   "cell_type": "code",
   "execution_count": 10,
   "id": "departmental-generation",
   "metadata": {},
   "outputs": [
    {
     "name": "stderr",
     "output_type": "stream",
     "text": [
      "  0%|          | 0/19 [00:00<?, ?it/s]"
     ]
    },
    {
     "name": "stdout",
     "output_type": "stream",
     "text": [
      "Processing brightness_5\n"
     ]
    },
    {
     "name": "stderr",
     "output_type": "stream",
     "text": [
      "  5%|▌         | 1/19 [00:03<01:00,  3.37s/it]"
     ]
    },
    {
     "name": "stdout",
     "output_type": "stream",
     "text": [
      "Test accuracy on brightness_5: 73.14000129699707%\n",
      "Processing contrast_5\n"
     ]
    },
    {
     "name": "stderr",
     "output_type": "stream",
     "text": [
      " 11%|█         | 2/19 [00:05<00:45,  2.65s/it]"
     ]
    },
    {
     "name": "stdout",
     "output_type": "stream",
     "text": [
      "Test accuracy on contrast_5: 19.679999351501465%\n",
      "Processing defocus_blur_5\n"
     ]
    },
    {
     "name": "stderr",
     "output_type": "stream",
     "text": [
      " 16%|█▌        | 3/19 [00:07<00:38,  2.43s/it]"
     ]
    },
    {
     "name": "stdout",
     "output_type": "stream",
     "text": [
      "Test accuracy on defocus_blur_5: 71.5499997138977%\n",
      "Processing elastic_5\n"
     ]
    },
    {
     "name": "stderr",
     "output_type": "stream",
     "text": [
      " 21%|██        | 4/19 [00:09<00:34,  2.32s/it]"
     ]
    },
    {
     "name": "stdout",
     "output_type": "stream",
     "text": [
      "Test accuracy on elastic_5: 74.76999759674072%\n",
      "Processing fog_5\n"
     ]
    },
    {
     "name": "stderr",
     "output_type": "stream",
     "text": [
      " 26%|██▋       | 5/19 [00:11<00:31,  2.26s/it]"
     ]
    },
    {
     "name": "stdout",
     "output_type": "stream",
     "text": [
      "Test accuracy on fog_5: 47.96999990940094%\n",
      "Processing frost_5\n"
     ]
    },
    {
     "name": "stderr",
     "output_type": "stream",
     "text": [
      " 32%|███▏      | 6/19 [00:14<00:28,  2.22s/it]"
     ]
    },
    {
     "name": "stdout",
     "output_type": "stream",
     "text": [
      "Test accuracy on frost_5: 61.29999756813049%\n",
      "Processing frosted_glass_blur_5\n"
     ]
    },
    {
     "name": "stderr",
     "output_type": "stream",
     "text": [
      " 37%|███▋      | 7/19 [00:16<00:26,  2.21s/it]"
     ]
    },
    {
     "name": "stdout",
     "output_type": "stream",
     "text": [
      "Test accuracy on frosted_glass_blur_5: 61.41999959945679%\n",
      "Processing gaussian_blur_5\n"
     ]
    },
    {
     "name": "stderr",
     "output_type": "stream",
     "text": [
      " 42%|████▏     | 8/19 [00:18<00:24,  2.20s/it]"
     ]
    },
    {
     "name": "stdout",
     "output_type": "stream",
     "text": [
      "Test accuracy on gaussian_blur_5: 66.03000164031982%\n",
      "Processing gaussian_noise_5\n"
     ]
    },
    {
     "name": "stderr",
     "output_type": "stream",
     "text": [
      " 47%|████▋     | 9/19 [00:20<00:21,  2.20s/it]"
     ]
    },
    {
     "name": "stdout",
     "output_type": "stream",
     "text": [
      "Test accuracy on gaussian_noise_5: 45.899999141693115%\n",
      "Processing impulse_noise_5\n"
     ]
    },
    {
     "name": "stderr",
     "output_type": "stream",
     "text": [
      " 53%|█████▎    | 10/19 [00:22<00:19,  2.19s/it]"
     ]
    },
    {
     "name": "stdout",
     "output_type": "stream",
     "text": [
      "Test accuracy on impulse_noise_5: 30.320000648498535%\n",
      "Processing jpeg_compression_5\n"
     ]
    },
    {
     "name": "stderr",
     "output_type": "stream",
     "text": [
      " 58%|█████▊    | 11/19 [00:25<00:17,  2.19s/it]"
     ]
    },
    {
     "name": "stdout",
     "output_type": "stream",
     "text": [
      "Test accuracy on jpeg_compression_5: 78.4600019454956%\n",
      "Processing motion_blur_5\n"
     ]
    },
    {
     "name": "stderr",
     "output_type": "stream",
     "text": [
      " 63%|██████▎   | 12/19 [00:27<00:15,  2.19s/it]"
     ]
    },
    {
     "name": "stdout",
     "output_type": "stream",
     "text": [
      "Test accuracy on motion_blur_5: 64.19000029563904%\n",
      "Processing pixelate_5\n"
     ]
    },
    {
     "name": "stderr",
     "output_type": "stream",
     "text": [
      " 68%|██████▊   | 13/19 [00:29<00:13,  2.19s/it]"
     ]
    },
    {
     "name": "stdout",
     "output_type": "stream",
     "text": [
      "Test accuracy on pixelate_5: 72.26999998092651%\n",
      "Processing saturate_5\n"
     ]
    },
    {
     "name": "stderr",
     "output_type": "stream",
     "text": [
      " 74%|███████▎  | 14/19 [00:31<00:10,  2.19s/it]"
     ]
    },
    {
     "name": "stdout",
     "output_type": "stream",
     "text": [
      "Test accuracy on saturate_5: 66.04999899864197%\n",
      "Processing shot_noise_5\n"
     ]
    },
    {
     "name": "stderr",
     "output_type": "stream",
     "text": [
      " 79%|███████▉  | 15/19 [00:33<00:08,  2.18s/it]"
     ]
    },
    {
     "name": "stdout",
     "output_type": "stream",
     "text": [
      "Test accuracy on shot_noise_5: 49.36999976634979%\n",
      "Processing snow_5\n"
     ]
    },
    {
     "name": "stderr",
     "output_type": "stream",
     "text": [
      " 84%|████████▍ | 16/19 [00:35<00:06,  2.18s/it]"
     ]
    },
    {
     "name": "stdout",
     "output_type": "stream",
     "text": [
      "Test accuracy on snow_5: 63.60999941825867%\n",
      "Processing spatter_5\n"
     ]
    },
    {
     "name": "stderr",
     "output_type": "stream",
     "text": [
      " 89%|████████▉ | 17/19 [00:38<00:04,  2.18s/it]"
     ]
    },
    {
     "name": "stdout",
     "output_type": "stream",
     "text": [
      "Test accuracy on spatter_5: 63.8700008392334%\n",
      "Processing speckle_noise_5\n"
     ]
    },
    {
     "name": "stderr",
     "output_type": "stream",
     "text": [
      " 95%|█████████▍| 18/19 [00:40<00:02,  2.18s/it]"
     ]
    },
    {
     "name": "stdout",
     "output_type": "stream",
     "text": [
      "Test accuracy on speckle_noise_5: 49.75000023841858%\n",
      "Processing zoom_blur_5\n"
     ]
    },
    {
     "name": "stderr",
     "output_type": "stream",
     "text": [
      "100%|██████████| 19/19 [00:42<00:00,  2.24s/it]"
     ]
    },
    {
     "name": "stdout",
     "output_type": "stream",
     "text": [
      "Test accuracy on zoom_blur_5: 78.32000255584717%\n",
      "Mean Top-1 Accuracy: 59.89315792133934%\n"
     ]
    },
    {
     "name": "stderr",
     "output_type": "stream",
     "text": [
      "\n"
     ]
    }
   ],
   "source": [
    "# Evaluate teacher model trained with MA\n",
    "teacher_model_ma = get_training_model()\n",
    "teacher_model_ma.load_weights(\"teacher_model_ma.h5\")\n",
    "teacher_model_ma.compile(loss=\"sparse_categorical_crossentropy\",\n",
    "                         metrics=[\"accuracy\"])\n",
    "acc_dict, mean_top_1 = evaluate_model(teacher_model_ma)\n",
    "print(f\"Mean Top-1 Accuracy: {mean_top_1}%\")"
   ]
  },
  {
   "cell_type": "code",
   "execution_count": 11,
   "id": "virgin-history",
   "metadata": {},
   "outputs": [
    {
     "name": "stderr",
     "output_type": "stream",
     "text": [
      "  0%|          | 0/19 [00:00<?, ?it/s]"
     ]
    },
    {
     "name": "stdout",
     "output_type": "stream",
     "text": [
      "Processing brightness_5\n"
     ]
    },
    {
     "name": "stderr",
     "output_type": "stream",
     "text": [
      "  5%|▌         | 1/19 [00:03<00:59,  3.32s/it]"
     ]
    },
    {
     "name": "stdout",
     "output_type": "stream",
     "text": [
      "Test accuracy on brightness_5: 81.80999755859375%\n",
      "Processing contrast_5\n"
     ]
    },
    {
     "name": "stderr",
     "output_type": "stream",
     "text": [
      " 11%|█         | 2/19 [00:05<00:44,  2.63s/it]"
     ]
    },
    {
     "name": "stdout",
     "output_type": "stream",
     "text": [
      "Test accuracy on contrast_5: 28.65999937057495%\n",
      "Processing defocus_blur_5\n"
     ]
    },
    {
     "name": "stderr",
     "output_type": "stream",
     "text": [
      " 16%|█▌        | 3/19 [00:07<00:38,  2.42s/it]"
     ]
    },
    {
     "name": "stdout",
     "output_type": "stream",
     "text": [
      "Test accuracy on defocus_blur_5: 70.93999981880188%\n",
      "Processing elastic_5\n"
     ]
    },
    {
     "name": "stderr",
     "output_type": "stream",
     "text": [
      " 21%|██        | 4/19 [00:09<00:34,  2.32s/it]"
     ]
    },
    {
     "name": "stdout",
     "output_type": "stream",
     "text": [
      "Test accuracy on elastic_5: 72.43000268936157%\n",
      "Processing fog_5\n"
     ]
    },
    {
     "name": "stderr",
     "output_type": "stream",
     "text": [
      " 26%|██▋       | 5/19 [00:11<00:31,  2.26s/it]"
     ]
    },
    {
     "name": "stdout",
     "output_type": "stream",
     "text": [
      "Test accuracy on fog_5: 49.43999946117401%\n",
      "Processing frost_5\n"
     ]
    },
    {
     "name": "stderr",
     "output_type": "stream",
     "text": [
      " 32%|███▏      | 6/19 [00:14<00:28,  2.23s/it]"
     ]
    },
    {
     "name": "stdout",
     "output_type": "stream",
     "text": [
      "Test accuracy on frost_5: 60.009998083114624%\n",
      "Processing frosted_glass_blur_5\n"
     ]
    },
    {
     "name": "stderr",
     "output_type": "stream",
     "text": [
      " 37%|███▋      | 7/19 [00:16<00:26,  2.20s/it]"
     ]
    },
    {
     "name": "stdout",
     "output_type": "stream",
     "text": [
      "Test accuracy on frosted_glass_blur_5: 58.139997720718384%\n",
      "Processing gaussian_blur_5\n"
     ]
    },
    {
     "name": "stderr",
     "output_type": "stream",
     "text": [
      " 42%|████▏     | 8/19 [00:18<00:24,  2.19s/it]"
     ]
    },
    {
     "name": "stdout",
     "output_type": "stream",
     "text": [
      "Test accuracy on gaussian_blur_5: 65.90999960899353%\n",
      "Processing gaussian_noise_5\n"
     ]
    },
    {
     "name": "stderr",
     "output_type": "stream",
     "text": [
      " 47%|████▋     | 9/19 [00:20<00:21,  2.18s/it]"
     ]
    },
    {
     "name": "stdout",
     "output_type": "stream",
     "text": [
      "Test accuracy on gaussian_noise_5: 47.00999855995178%\n",
      "Processing impulse_noise_5\n"
     ]
    },
    {
     "name": "stderr",
     "output_type": "stream",
     "text": [
      " 53%|█████▎    | 10/19 [00:22<00:19,  2.17s/it]"
     ]
    },
    {
     "name": "stdout",
     "output_type": "stream",
     "text": [
      "Test accuracy on impulse_noise_5: 29.399999976158142%\n",
      "Processing jpeg_compression_5\n"
     ]
    },
    {
     "name": "stderr",
     "output_type": "stream",
     "text": [
      " 58%|█████▊    | 11/19 [00:24<00:17,  2.17s/it]"
     ]
    },
    {
     "name": "stdout",
     "output_type": "stream",
     "text": [
      "Test accuracy on jpeg_compression_5: 76.10999941825867%\n",
      "Processing motion_blur_5\n"
     ]
    },
    {
     "name": "stderr",
     "output_type": "stream",
     "text": [
      " 63%|██████▎   | 12/19 [00:27<00:15,  2.17s/it]"
     ]
    },
    {
     "name": "stdout",
     "output_type": "stream",
     "text": [
      "Test accuracy on motion_blur_5: 65.93000292778015%\n",
      "Processing pixelate_5\n"
     ]
    },
    {
     "name": "stderr",
     "output_type": "stream",
     "text": [
      " 68%|██████▊   | 13/19 [00:29<00:13,  2.17s/it]"
     ]
    },
    {
     "name": "stdout",
     "output_type": "stream",
     "text": [
      "Test accuracy on pixelate_5: 71.3699996471405%\n",
      "Processing saturate_5\n"
     ]
    },
    {
     "name": "stderr",
     "output_type": "stream",
     "text": [
      " 74%|███████▎  | 14/19 [00:31<00:10,  2.17s/it]"
     ]
    },
    {
     "name": "stdout",
     "output_type": "stream",
     "text": [
      "Test accuracy on saturate_5: 80.47000169754028%\n",
      "Processing shot_noise_5\n"
     ]
    },
    {
     "name": "stderr",
     "output_type": "stream",
     "text": [
      " 79%|███████▉  | 15/19 [00:33<00:08,  2.17s/it]"
     ]
    },
    {
     "name": "stdout",
     "output_type": "stream",
     "text": [
      "Test accuracy on shot_noise_5: 51.42999887466431%\n",
      "Processing snow_5\n"
     ]
    },
    {
     "name": "stderr",
     "output_type": "stream",
     "text": [
      " 84%|████████▍ | 16/19 [00:35<00:06,  2.16s/it]"
     ]
    },
    {
     "name": "stdout",
     "output_type": "stream",
     "text": [
      "Test accuracy on snow_5: 66.38000011444092%\n",
      "Processing spatter_5\n"
     ]
    },
    {
     "name": "stderr",
     "output_type": "stream",
     "text": [
      " 89%|████████▉ | 17/19 [00:37<00:04,  2.17s/it]"
     ]
    },
    {
     "name": "stdout",
     "output_type": "stream",
     "text": [
      "Test accuracy on spatter_5: 70.24000287055969%\n",
      "Processing speckle_noise_5\n"
     ]
    },
    {
     "name": "stderr",
     "output_type": "stream",
     "text": [
      " 95%|█████████▍| 18/19 [00:40<00:02,  2.17s/it]"
     ]
    },
    {
     "name": "stdout",
     "output_type": "stream",
     "text": [
      "Test accuracy on speckle_noise_5: 52.27000117301941%\n",
      "Processing zoom_blur_5\n"
     ]
    },
    {
     "name": "stderr",
     "output_type": "stream",
     "text": [
      "100%|██████████| 19/19 [00:42<00:00,  2.22s/it]"
     ]
    },
    {
     "name": "stdout",
     "output_type": "stream",
     "text": [
      "Test accuracy on zoom_blur_5: 77.46000289916992%\n",
      "Mean Top-1 Accuracy: 61.863684340527186%\n"
     ]
    },
    {
     "name": "stderr",
     "output_type": "stream",
     "text": [
      "\n"
     ]
    }
   ],
   "source": [
    "# Evaluate the corresponding student model\n",
    "student_noisy_ma = get_training_model()\n",
    "student_noisy_ma.load_weights(\"student_noisy_ma.h5\")\n",
    "student_noisy_ma.compile(loss=\"sparse_categorical_crossentropy\",\n",
    "                         metrics=[\"accuracy\"])\n",
    "acc_dict, mean_top_1 = evaluate_model(student_noisy_ma)\n",
    "print(f\"Mean Top-1 Accuracy: {mean_top_1}%\")"
   ]
  }
 ],
 "metadata": {
  "environment": {
   "name": "tf2-gpu.2-4.mnightly-2021-01-20-debian-10-test",
   "type": "gcloud",
   "uri": "gcr.io/deeplearning-platform-release/tf2-gpu.2-4:mnightly-2021-01-20-debian-10-test"
  },
  "kernelspec": {
   "display_name": "Python 3",
   "language": "python",
   "name": "python3"
  },
  "language_info": {
   "codemirror_mode": {
    "name": "ipython",
    "version": 3
   },
   "file_extension": ".py",
   "mimetype": "text/x-python",
   "name": "python",
   "nbconvert_exporter": "python",
   "pygments_lexer": "ipython3",
   "version": "3.7.9"
  }
 },
 "nbformat": 4,
 "nbformat_minor": 5
}
